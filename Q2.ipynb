{
 "cells": [
  {
   "cell_type": "code",
   "execution_count": 7,
   "metadata": {},
   "outputs": [],
   "source": [
    "import scipy.io\n",
    "import numpy as np\n",
    "import cv2\n",
    "import matplotlib.pyplot as plt\n",
    "import time\n",
    "from train_test_split import split\n",
    "from training_set_split import split_training_set"
   ]
  },
  {
   "cell_type": "code",
   "execution_count": 8,
   "metadata": {},
   "outputs": [],
   "source": [
    "M = 100\n",
    "INDEX = 0 # image to reconstruct\n",
    "WIDTH = 46\n",
    "HEIGHT = 56\n",
    "TEST_NUMBER = 2"
   ]
  },
  {
   "cell_type": "code",
   "execution_count": 10,
   "metadata": {},
   "outputs": [
    {
     "name": "stdout",
     "output_type": "stream",
     "text": [
      "(2576, 416)\n",
      "[[ 1  1  1  1  1  1  1  1  2  2  2  2  2  2  2  2  3  3  3  3  3  3  3  3\n",
      "   4  4  4  4  4  4  4  4  5  5  5  5  5  5  5  5  6  6  6  6  6  6  6  6\n",
      "   7  7  7  7  7  7  7  7  8  8  8  8  8  8  8  8  9  9  9  9  9  9  9  9\n",
      "  10 10 10 10 10 10 10 10 11 11 11 11 11 11 11 11 12 12 12 12 12 12 12 12\n",
      "  13 13 13 13 13 13 13 13 14 14 14 14 14 14 14 14 15 15 15 15 15 15 15 15\n",
      "  16 16 16 16 16 16 16 16 17 17 17 17 17 17 17 17 18 18 18 18 18 18 18 18\n",
      "  19 19 19 19 19 19 19 19 20 20 20 20 20 20 20 20 21 21 21 21 21 21 21 21\n",
      "  22 22 22 22 22 22 22 22 23 23 23 23 23 23 23 23 24 24 24 24 24 24 24 24\n",
      "  25 25 25 25 25 25 25 25 26 26 26 26 26 26 26 26 27 27 27 27 27 27 27 27\n",
      "  28 28 28 28 28 28 28 28 29 29 29 29 29 29 29 29 30 30 30 30 30 30 30 30\n",
      "  31 31 31 31 31 31 31 31 32 32 32 32 32 32 32 32 33 33 33 33 33 33 33 33\n",
      "  34 34 34 34 34 34 34 34 35 35 35 35 35 35 35 35 36 36 36 36 36 36 36 36\n",
      "  37 37 37 37 37 37 37 37 38 38 38 38 38 38 38 38 39 39 39 39 39 39 39 39\n",
      "  40 40 40 40 40 40 40 40 41 41 41 41 41 41 41 41 42 42 42 42 42 42 42 42\n",
      "  43 43 43 43 43 43 43 43 44 44 44 44 44 44 44 44 45 45 45 45 45 45 45 45\n",
      "  46 46 46 46 46 46 46 46 47 47 47 47 47 47 47 47 48 48 48 48 48 48 48 48\n",
      "  49 49 49 49 49 49 49 49 50 50 50 50 50 50 50 50 51 51 51 51 51 51 51 51\n",
      "  52 52 52 52 52 52 52 52]]\n",
      "(2576, 104)\n",
      "[[ 1  1  2  2  3  3  4  4  5  5  6  6  7  7  8  8  9  9 10 10 11 11 12 12\n",
      "  13 13 14 14 15 15 16 16 17 17 18 18 19 19 20 20 21 21 22 22 23 23 24 24\n",
      "  25 25 26 26 27 27 28 28 29 29 30 30 31 31 32 32 33 33 34 34 35 35 36 36\n",
      "  37 37 38 38 39 39 40 40 41 41 42 42 43 43 44 44 45 45 46 46 47 47 48 48\n",
      "  49 49 50 50 51 51 52 52]]\n"
     ]
    }
   ],
   "source": [
    "mat = scipy.io.loadmat('face.mat')\n",
    "data_train, label_train , data_test, label_test = split(mat, TEST_NUMBER)\n",
    "# print(data_train.shape)\n",
    "# print(label_train)\n",
    "x_tn_1, x_tn_2, x_tn_3, x_tn_4, y_tn_1, y_tn_2, y_tn_3, y_tn_4 = split_training_set(data_train, label_train)\n",
    "# print(x_tn_1.shape)\n",
    "# print(y_tn_1)"
   ]
  },
  {
   "cell_type": "code",
   "execution_count": 6,
   "metadata": {},
   "outputs": [
    {
     "name": "stdout",
     "output_type": "stream",
     "text": [
      "(2576, 416)\n"
     ]
    }
   ],
   "source": [
    "mat = scipy.io.loadmat('face.mat')\n",
    "data_train, label_train , data_test, label_test = split(mat, TEST_NUMBER)\n",
    "print(data_train.shape)"
   ]
  },
  {
   "cell_type": "code",
   "execution_count": 8,
   "metadata": {},
   "outputs": [
    {
     "data": {
      "text/plain": [
       "416"
      ]
     },
     "execution_count": 8,
     "metadata": {},
     "output_type": "execute_result"
    }
   ],
   "source": [
    "data_train.shape[1]"
   ]
  },
  {
   "cell_type": "code",
   "execution_count": 10,
   "metadata": {},
   "outputs": [],
   "source": [
    "index = np.arange(data_train.shape[1])"
   ]
  },
  {
   "cell_type": "code",
   "execution_count": 11,
   "metadata": {},
   "outputs": [
    {
     "name": "stdout",
     "output_type": "stream",
     "text": [
      "[  0   1   8   9  16  17  24  25  32  33  40  41  48  49  56  57  64  65\n",
      "  72  73  80  81  88  89  96  97 104 105 112 113 120 121 128 129 136 137\n",
      " 144 145 152 153 160 161 168 169 176 177 184 185 192 193 200 201 208 209\n",
      " 216 217 224 225 232 233 240 241 248 249 256 257 264 265 272 273 280 281\n",
      " 288 289 296 297 304 305 312 313 320 321 328 329 336 337 344 345 352 353\n",
      " 360 361 368 369 376 377 384 385 392 393 400 401 408 409]\n"
     ]
    }
   ],
   "source": [
    "print(index[(index % 8 == 0) + (index % 8 == 1)])"
   ]
  },
  {
   "cell_type": "code",
   "execution_count": null,
   "metadata": {},
   "outputs": [],
   "source": []
  }
 ],
 "metadata": {
  "interpreter": {
   "hash": "aee8b7b246df8f9039afb4144a1f6fd8d2ca17a180786b69acc140d282b71a49"
  },
  "kernelspec": {
   "display_name": "Python 3.9.7 64-bit",
   "name": "python3"
  },
  "language_info": {
   "codemirror_mode": {
    "name": "ipython",
    "version": 3
   },
   "file_extension": ".py",
   "mimetype": "text/x-python",
   "name": "python",
   "nbconvert_exporter": "python",
   "pygments_lexer": "ipython3",
   "version": "3.9.7"
  },
  "orig_nbformat": 4
 },
 "nbformat": 4,
 "nbformat_minor": 2
}
