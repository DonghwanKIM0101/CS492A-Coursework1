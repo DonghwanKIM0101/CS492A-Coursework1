{
 "cells": [
  {
   "cell_type": "code",
   "execution_count": 12,
   "metadata": {},
   "outputs": [],
   "source": [
    "import scipy.io\n",
    "import numpy as np\n",
    "import cv2\n",
    "import matplotlib.pyplot as plt\n",
    "import time\n",
    "from train_test_split import split"
   ]
  },
  {
   "cell_type": "code",
   "execution_count": 13,
   "metadata": {},
   "outputs": [],
   "source": [
    "M = 100\n",
    "INDEX = 0 # image to reconstruct\n",
    "WIDTH = 46\n",
    "HEIGHT = 56\n",
    "TEST_NUMBER = 2"
   ]
  },
  {
   "cell_type": "code",
   "execution_count": 14,
   "metadata": {},
   "outputs": [],
   "source": [
    "def solve_eig(S):\n",
    "    eig_val, eig_vec = np.linalg.eigh(S)\n",
    "\n",
    "    sorted_eig_val = np.flip(eig_val)\n",
    "    sorted_eig_vec = np.flip(eig_vec, axis=1)\n",
    "\n",
    "    positive_map = sorted_eig_val > 0\n",
    "    positive_sorted_eig_val = sorted_eig_val[positive_map]\n",
    "    positive_sorted_eig_vec = sorted_eig_vec[:,positive_map]\n",
    "\n",
    "    return positive_sorted_eig_val, positive_sorted_eig_vec\n"
   ]
  },
  {
   "cell_type": "code",
   "execution_count": 15,
   "metadata": {},
   "outputs": [
    {
     "name": "stdout",
     "output_type": "stream",
     "text": [
      "[[130 191 161 ...  70 183  77]\n",
      " [129 185 156 ...  62 250  72]\n",
      " [130 174 141 ...  83 163  68]\n",
      " ...\n",
      " [ 40  22  58 ...  87 102  93]\n",
      " [ 36  19  59 ...  89  95 103]\n",
      " [ 35  17  60 ...  94 106 110]]\n",
      "elasped time is  1.334367036819458\n"
     ]
    }
   ],
   "source": [
    "start_time = time.time()\n",
    "\n",
    "mat = scipy.io.loadmat('face.mat')\n",
    "data_train, _ , data_test, _ = split(mat, TEST_NUMBER)\n",
    "print(data_train)\n",
    "data = data_train.reshape((WIDTH,HEIGHT,-1))\n",
    "data = np.transpose(data, (1,0,2))\n",
    "\n",
    "mean_image = np.uint8(np.average(data,2))\n",
    "mean_flatten = np.average(data_train,1)\n",
    "# cv2.imwrite('mean_image.jpg', np.uint8(mean_image))\n",
    "\n",
    "A = np.subtract(data_train, mean_flatten.reshape((-1,1)))\n",
    "S = np.matmul(A, A.transpose()) / data_train.shape[1]\n",
    "S_low = np.matmul(A.transpose(), A) / data_train.shape[1]\n",
    "\n",
    "eig_val, eig_vec = solve_eig(S)\n",
    "eig_val_low, eig_vec_low = solve_eig(S_low)\n",
    "\n",
    "print(\"elasped time is \", time.time() - start_time)"
   ]
  },
  {
   "cell_type": "code",
   "execution_count": 7,
   "metadata": {},
   "outputs": [],
   "source": [
    "# # Check eigen vectors and eigen values are identical.\n",
    "# eig_vec_error = 0\n",
    "# eig_val_error = np.average(np.abs(eig_val[:M] - eig_val_low[:M]))\n",
    "# for i in range(M):\n",
    "#     u = eig_vec[:,i]\n",
    "\n",
    "#     u_low = eig_vec_low[:,i]\n",
    "#     u_low = np.matmul(A, u_low)\n",
    "#     u_low /= np.linalg.norm(u_low)\n",
    "\n",
    "#     eig_vec_error += abs(1 - abs(np.dot(u, u_low) / (np.linalg.norm(u) * np.linalg.norm(u_low))))\n",
    "\n",
    "# eig_vec_error /= M\n",
    "# # Plot eigen values.\n",
    "# print(eig_vec_error)\n",
    "# print(eig_val_error)\n",
    "# print(eig_vec.shape)\n",
    "# print(eig_vec_low.shape)\n",
    "# plt.plot(eig_val)\n",
    "# plt.plot(eig_val_low)\n",
    "# plt.show()"
   ]
  },
  {
   "cell_type": "code",
   "execution_count": 8,
   "metadata": {},
   "outputs": [],
   "source": [
    "# Face Reconstruction\n",
    "# phi = data_test[:,INDEX] - mean_flatten\n",
    "\n",
    "#     face_recon = mean_flatten\n",
    "\n",
    "#     for i in range(M):\n",
    "#         # u = eig_vec[:,i]\n",
    "\n",
    "#         u = eig_vec_low[:,i]\n",
    "#         u = np.matmul(A, u)\n",
    "#         u /= np.linalg.norm(u)\n",
    "\n",
    "#         a = np.dot(phi, u)\n",
    "#         face_recon += a * u\n",
    "\n",
    "#     # print(\"M is %d, reconstruction error is %f\"%(M ,np.linalg.norm(face_recon - data_test[:,INDEX])))\n",
    "\n",
    "#     face_recon = face_recon.reshape((WIDTH,HEIGHT))\n",
    "#     face_recon = face_recon.transpose()\n",
    "\n",
    "#     cv2.imshow(\"mean face\", mean_image)\n",
    "#     cv2.imshow(\"original\", data_test[:,INDEX].reshape((WIDTH,HEIGHT)).transpose())\n",
    "\n",
    "#     cv2.imshow(\"face reconstruction\", np.uint8(face_recon))\n",
    "#     cv2.waitKey(0)"
   ]
  },
  {
   "cell_type": "code",
   "execution_count": 9,
   "metadata": {},
   "outputs": [],
   "source": [
    "BASES = [10, 50, 100, 200, 400]\n",
    "INDICES = [0, 2, 4, 6, 8]\n",
    "\n",
    "face_recon = mean_flatten"
   ]
  },
  {
   "cell_type": "code",
   "execution_count": null,
   "metadata": {},
   "outputs": [],
   "source": [
    "for index in INDICES:\n",
    "    phi = data_test[:,index] - mean_flatten\n",
    "\n",
    "    cv2.imwrite(\"./Figure/original_%d.jpg\"%index, data_test[:,index].reshape((WIDTH,HEIGHT)).transpose())\n",
    "\n",
    "    for m in BASES:\n",
    "        face_recon_low = face_recon.copy()\n",
    "        face_recon_original = face_recon.copy()\n",
    "        print(\"PCA on bases, %d and index, %d ...\"%(m, index))\n",
    "\n",
    "        for i in range(m):\n",
    "            u = eig_vec[:,i]\n",
    "\n",
    "            u_low = eig_vec_low[:,i]\n",
    "            u_low = np.matmul(A, u_low)\n",
    "            u_low /= np.linalg.norm(u_low)\n",
    "\n",
    "            a = np.dot(phi, u)\n",
    "            a_low = np.dot(phi, u_low)\n",
    "\n",
    "            face_recon_original +=  a * u\n",
    "            face_recon_low += a_low * u_low\n",
    "\n",
    "        face_recon_original = face_recon_original.reshape((WIDTH,HEIGHT)).transpose()\n",
    "        face_recon_low = face_recon_low.reshape((WIDTH,HEIGHT)).transpose()\n",
    "\n",
    "        cv2.imwrite(\"./Figure/original_%d_%d.jpg\"%(m, index), np.uint8(face_recon_original))\n",
    "        cv2.imwrite(\"./Figure/low_%d_%d.jpg\"%(m, index), np.uint8(face_recon_low))\n"
   ]
  },
  {
   "cell_type": "code",
   "execution_count": null,
   "metadata": {},
   "outputs": [],
   "source": []
  }
 ],
 "metadata": {
  "interpreter": {
   "hash": "aee8b7b246df8f9039afb4144a1f6fd8d2ca17a180786b69acc140d282b71a49"
  },
  "kernelspec": {
   "display_name": "Python 3.9.7 64-bit",
   "name": "python3"
  },
  "language_info": {
   "codemirror_mode": {
    "name": "ipython",
    "version": 3
   },
   "file_extension": ".py",
   "mimetype": "text/x-python",
   "name": "python",
   "nbconvert_exporter": "python",
   "pygments_lexer": "ipython3",
   "version": "3.9.7"
  },
  "orig_nbformat": 4
 },
 "nbformat": 4,
 "nbformat_minor": 2
}
